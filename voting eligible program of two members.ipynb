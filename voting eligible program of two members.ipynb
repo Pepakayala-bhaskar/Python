{
  "nbformat": 4,
  "nbformat_minor": 0,
  "metadata": {
    "colab": {
      "provenance": [],
      "authorship_tag": "ABX9TyOS+jqLV1Kjil2cq8ztEExi",
      "include_colab_link": true
    },
    "kernelspec": {
      "name": "python3",
      "display_name": "Python 3"
    },
    "language_info": {
      "name": "python"
    }
  },
  "cells": [
    {
      "cell_type": "markdown",
      "metadata": {
        "id": "view-in-github",
        "colab_type": "text"
      },
      "source": [
        "<a href=\"https://colab.research.google.com/github/Pepakayala-bhaskar/Python/blob/main/voting%20eligible%20program%20of%20two%20members.ipynb\" target=\"_parent\"><img src=\"https://colab.research.google.com/assets/colab-badge.svg\" alt=\"Open In Colab\"/></a>"
      ]
    },
    {
      "cell_type": "code",
      "execution_count": 3,
      "metadata": {
        "colab": {
          "base_uri": "https://localhost:8080/"
        },
        "id": "bwvaWnh5_SKh",
        "outputId": "80b6daa4-744c-4dad-9ada-c55ed15556a8"
      },
      "outputs": [
        {
          "output_type": "stream",
          "name": "stdout",
          "text": [
            "enter your 'a' person age:16\n",
            "enter your 'b' person age:18\n",
            "b person is eligible for voter id\n"
          ]
        }
      ],
      "source": [
        "a=int(input(\"enter your 'a' person age:\"))\n",
        "b=int(input(\"enter your 'b' person age:\"))\n",
        "if(a>=18):\n",
        "    print(\"a person is eligible for voter id\")\n",
        "elif(b>=18):\n",
        "    print(\"b person is eligible for voter id\")\n",
        "else:\n",
        "    print(\"both are not eligibile for voter id\")\n",
        ""
      ]
    }
  ]
}